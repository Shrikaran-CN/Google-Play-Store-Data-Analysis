{
 "cells": [
  {
   "cell_type": "code",
   "execution_count": 1,
   "id": "55e9b00a",
   "metadata": {},
   "outputs": [],
   "source": [
    "import pandas as pd\n",
    "import numpy as np\n",
    "import seaborn as sns"
   ]
  },
  {
   "cell_type": "code",
   "execution_count": 2,
   "id": "b05ad1b6",
   "metadata": {},
   "outputs": [
    {
     "data": {
      "text/html": [
       "<div>\n",
       "<style scoped>\n",
       "    .dataframe tbody tr th:only-of-type {\n",
       "        vertical-align: middle;\n",
       "    }\n",
       "\n",
       "    .dataframe tbody tr th {\n",
       "        vertical-align: top;\n",
       "    }\n",
       "\n",
       "    .dataframe thead th {\n",
       "        text-align: right;\n",
       "    }\n",
       "</style>\n",
       "<table border=\"1\" class=\"dataframe\">\n",
       "  <thead>\n",
       "    <tr style=\"text-align: right;\">\n",
       "      <th></th>\n",
       "      <th>App</th>\n",
       "      <th>Category</th>\n",
       "      <th>Rating</th>\n",
       "      <th>Reviews</th>\n",
       "      <th>Size</th>\n",
       "      <th>Installs</th>\n",
       "      <th>Type</th>\n",
       "      <th>Price</th>\n",
       "      <th>Content Rating</th>\n",
       "      <th>Genres</th>\n",
       "      <th>Last Updated</th>\n",
       "      <th>Current Ver</th>\n",
       "      <th>Android Ver</th>\n",
       "    </tr>\n",
       "  </thead>\n",
       "  <tbody>\n",
       "    <tr>\n",
       "      <th>1347</th>\n",
       "      <td>Pocket Yoga</td>\n",
       "      <td>HEALTH_AND_FITNESS</td>\n",
       "      <td>4.4</td>\n",
       "      <td>2107</td>\n",
       "      <td>Varies with device</td>\n",
       "      <td>100,000+</td>\n",
       "      <td>Paid</td>\n",
       "      <td>$2.99</td>\n",
       "      <td>Everyone</td>\n",
       "      <td>Health &amp; Fitness</td>\n",
       "      <td>22-Dec-15</td>\n",
       "      <td>Varies with device</td>\n",
       "      <td>Varies with device</td>\n",
       "    </tr>\n",
       "    <tr>\n",
       "      <th>8426</th>\n",
       "      <td>Bike 3D Configurator</td>\n",
       "      <td>SPORTS</td>\n",
       "      <td>4.3</td>\n",
       "      <td>34062</td>\n",
       "      <td>85M</td>\n",
       "      <td>1,000,000+</td>\n",
       "      <td>Free</td>\n",
       "      <td>0</td>\n",
       "      <td>Everyone</td>\n",
       "      <td>Sports</td>\n",
       "      <td>3-Apr-18</td>\n",
       "      <td>1.6.7</td>\n",
       "      <td>4.4 and up</td>\n",
       "    </tr>\n",
       "    <tr>\n",
       "      <th>1689</th>\n",
       "      <td>Hill Climb Racing</td>\n",
       "      <td>GAME</td>\n",
       "      <td>4.4</td>\n",
       "      <td>8923587</td>\n",
       "      <td>63M</td>\n",
       "      <td>100,000,000+</td>\n",
       "      <td>Free</td>\n",
       "      <td>0</td>\n",
       "      <td>Everyone</td>\n",
       "      <td>Racing</td>\n",
       "      <td>2-Jul-18</td>\n",
       "      <td>1.37.2</td>\n",
       "      <td>4.2 and up</td>\n",
       "    </tr>\n",
       "    <tr>\n",
       "      <th>6389</th>\n",
       "      <td>Bk Bee Sales Manager</td>\n",
       "      <td>BUSINESS</td>\n",
       "      <td>NaN</td>\n",
       "      <td>0</td>\n",
       "      <td>2.1M</td>\n",
       "      <td>5+</td>\n",
       "      <td>Paid</td>\n",
       "      <td>$0.99</td>\n",
       "      <td>Everyone</td>\n",
       "      <td>Business</td>\n",
       "      <td>16-Dec-17</td>\n",
       "      <td>1</td>\n",
       "      <td>4.1 and up</td>\n",
       "    </tr>\n",
       "    <tr>\n",
       "      <th>5510</th>\n",
       "      <td>AQ Coach</td>\n",
       "      <td>SPORTS</td>\n",
       "      <td>NaN</td>\n",
       "      <td>0</td>\n",
       "      <td>28M</td>\n",
       "      <td>5+</td>\n",
       "      <td>Free</td>\n",
       "      <td>0</td>\n",
       "      <td>Everyone</td>\n",
       "      <td>Sports</td>\n",
       "      <td>25-May-18</td>\n",
       "      <td>1.1.0</td>\n",
       "      <td>4.4 and up</td>\n",
       "    </tr>\n",
       "  </tbody>\n",
       "</table>\n",
       "</div>"
      ],
      "text/plain": [
       "                       App            Category  Rating  Reviews  \\\n",
       "1347           Pocket Yoga  HEALTH_AND_FITNESS     4.4     2107   \n",
       "8426  Bike 3D Configurator              SPORTS     4.3    34062   \n",
       "1689     Hill Climb Racing                GAME     4.4  8923587   \n",
       "6389  Bk Bee Sales Manager            BUSINESS     NaN        0   \n",
       "5510              AQ Coach              SPORTS     NaN        0   \n",
       "\n",
       "                    Size      Installs  Type   Price Content Rating  \\\n",
       "1347  Varies with device      100,000+  Paid  $2.99        Everyone   \n",
       "8426                 85M    1,000,000+  Free       0       Everyone   \n",
       "1689                 63M  100,000,000+  Free       0       Everyone   \n",
       "6389                2.1M            5+  Paid  $0.99        Everyone   \n",
       "5510                 28M            5+  Free       0       Everyone   \n",
       "\n",
       "                Genres Last Updated         Current Ver         Android Ver  \n",
       "1347  Health & Fitness    22-Dec-15  Varies with device  Varies with device  \n",
       "8426            Sports     3-Apr-18               1.6.7          4.4 and up  \n",
       "1689            Racing     2-Jul-18              1.37.2          4.2 and up  \n",
       "6389          Business    16-Dec-17                   1          4.1 and up  \n",
       "5510            Sports    25-May-18               1.1.0          4.4 and up  "
      ]
     },
     "execution_count": 2,
     "metadata": {},
     "output_type": "execute_result"
    }
   ],
   "source": [
    "df = pd.read_csv('googleplaystore.csv')\n",
    "df.sample(5)"
   ]
  },
  {
   "cell_type": "code",
   "execution_count": 3,
   "id": "b691f490",
   "metadata": {},
   "outputs": [
    {
     "name": "stdout",
     "output_type": "stream",
     "text": [
      "<class 'pandas.core.frame.DataFrame'>\n",
      "RangeIndex: 10841 entries, 0 to 10840\n",
      "Data columns (total 13 columns):\n",
      " #   Column          Non-Null Count  Dtype  \n",
      "---  ------          --------------  -----  \n",
      " 0   App             10841 non-null  object \n",
      " 1   Category        10841 non-null  object \n",
      " 2   Rating          9367 non-null   float64\n",
      " 3   Reviews         10841 non-null  object \n",
      " 4   Size            10841 non-null  object \n",
      " 5   Installs        10841 non-null  object \n",
      " 6   Type            10840 non-null  object \n",
      " 7   Price           10841 non-null  object \n",
      " 8   Content Rating  10840 non-null  object \n",
      " 9   Genres          10841 non-null  object \n",
      " 10  Last Updated    10841 non-null  object \n",
      " 11  Current Ver     10833 non-null  object \n",
      " 12  Android Ver     10838 non-null  object \n",
      "dtypes: float64(1), object(12)\n",
      "memory usage: 1.1+ MB\n"
     ]
    }
   ],
   "source": [
    "df.info()"
   ]
  },
  {
   "cell_type": "markdown",
   "id": "f7929ea2",
   "metadata": {},
   "source": [
    "## Data Cleaning"
   ]
  },
  {
   "cell_type": "markdown",
   "id": "47dfab42",
   "metadata": {},
   "source": [
    "#### 1. Which of the following column(s) has/have null values?"
   ]
  },
  {
   "cell_type": "code",
   "execution_count": 4,
   "id": "7480b5c7",
   "metadata": {},
   "outputs": [
    {
     "data": {
      "text/plain": [
       "Rating            1474\n",
       "Current Ver          8\n",
       "Android Ver          3\n",
       "Type                 1\n",
       "Content Rating       1\n",
       "App                  0\n",
       "Category             0\n",
       "Reviews              0\n",
       "Size                 0\n",
       "Installs             0\n",
       "Price                0\n",
       "Genres               0\n",
       "Last Updated         0\n",
       "dtype: int64"
      ]
     },
     "execution_count": 4,
     "metadata": {},
     "output_type": "execute_result"
    }
   ],
   "source": [
    "df.isna().sum().sort_values(ascending=False)"
   ]
  },
  {
   "cell_type": "markdown",
   "id": "5e0200f1",
   "metadata": {},
   "source": [
    "#### 2. Clean the `Rating` column and the other columns containing null values"
   ]
  },
  {
   "cell_type": "code",
   "execution_count": 5,
   "id": "1c5c46e7",
   "metadata": {},
   "outputs": [
    {
     "data": {
      "text/plain": [
       "count    9367.000000\n",
       "mean        4.231419\n",
       "std         0.732847\n",
       "min         1.000000\n",
       "25%         4.000000\n",
       "50%         4.300000\n",
       "75%         4.500000\n",
       "max        19.000000\n",
       "Name: Rating, dtype: float64"
      ]
     },
     "execution_count": 5,
     "metadata": {},
     "output_type": "execute_result"
    }
   ],
   "source": [
    "df['Rating'].describe()"
   ]
  },
  {
   "cell_type": "code",
   "execution_count": 6,
   "id": "7beb42c8",
   "metadata": {},
   "outputs": [
    {
     "data": {
      "text/plain": [
       "<AxesSubplot:>"
      ]
     },
     "execution_count": 6,
     "metadata": {},
     "output_type": "execute_result"
    },
    {
     "data": {
      "image/png": "[encoded data removed]",
      "text/plain": [
       "<Figure size 432x288 with 1 Axes>"
      ]
     },
     "metadata": {
      "needs_background": "light"
     },
     "output_type": "display_data"
    }
   ],
   "source": [
    "df['Rating'].plot(kind='box',vert=False)"
   ]
  },
  {
   "cell_type": "code",
   "execution_count": 7,
   "id": "c5a59e8a",
   "metadata": {},
   "outputs": [],
   "source": [
    "df.loc[df['Rating']>5,'Rating'] = np.nan"
   ]
  },
  {
   "cell_type": "code",
   "execution_count": 8,
   "id": "3d976b33",
   "metadata": {},
   "outputs": [],
   "source": [
    "df['Rating'].fillna(df['Rating'].mean(),inplace=True)"
   ]
  },
  {
   "cell_type": "code",
   "execution_count": 9,
   "id": "4f904fdf",
   "metadata": {},
   "outputs": [],
   "source": [
    "df.dropna(inplace=True)"
   ]
  },
  {
   "cell_type": "code",
   "execution_count": 10,
   "id": "9a49a213",
   "metadata": {},
   "outputs": [
    {
     "data": {
      "text/plain": [
       "App               0\n",
       "Category          0\n",
       "Rating            0\n",
       "Reviews           0\n",
       "Size              0\n",
       "Installs          0\n",
       "Type              0\n",
       "Price             0\n",
       "Content Rating    0\n",
       "Genres            0\n",
       "Last Updated      0\n",
       "Current Ver       0\n",
       "Android Ver       0\n",
       "dtype: int64"
      ]
     },
     "execution_count": 10,
     "metadata": {},
     "output_type": "execute_result"
    }
   ],
   "source": [
    "df.isna().sum()"
   ]
  },
  {
   "cell_type": "markdown",
   "id": "a0eea98e",
   "metadata": {},
   "source": [
    "#### 3. Clean the column `Reviews` and make it numeric"
   ]
  },
  {
   "cell_type": "code",
   "execution_count": 11,
   "id": "013c1b57",
   "metadata": {},
   "outputs": [],
   "source": [
    "df['Reviews Numeric'] = pd.to_numeric(df['Reviews'], errors='coerce')"
   ]
  },
  {
   "cell_type": "code",
   "execution_count": 12,
   "id": "e81de26c",
   "metadata": {
    "scrolled": true
   },
   "outputs": [
    {
     "data": {
      "text/html": [
       "<div>\n",
       "<style scoped>\n",
       "    .dataframe tbody tr th:only-of-type {\n",
       "        vertical-align: middle;\n",
       "    }\n",
       "\n",
       "    .dataframe tbody tr th {\n",
       "        vertical-align: top;\n",
       "    }\n",
       "\n",
       "    .dataframe thead th {\n",
       "        text-align: right;\n",
       "    }\n",
       "</style>\n",
       "<table border=\"1\" class=\"dataframe\">\n",
       "  <thead>\n",
       "    <tr style=\"text-align: right;\">\n",
       "      <th></th>\n",
       "      <th>App</th>\n",
       "      <th>Category</th>\n",
       "      <th>Rating</th>\n",
       "      <th>Reviews</th>\n",
       "      <th>Size</th>\n",
       "      <th>Installs</th>\n",
       "      <th>Type</th>\n",
       "      <th>Price</th>\n",
       "      <th>Content Rating</th>\n",
       "      <th>Genres</th>\n",
       "      <th>Last Updated</th>\n",
       "      <th>Current Ver</th>\n",
       "      <th>Android Ver</th>\n",
       "      <th>Reviews Numeric</th>\n",
       "    </tr>\n",
       "  </thead>\n",
       "  <tbody>\n",
       "    <tr>\n",
       "      <th>72</th>\n",
       "      <td>Android Auto - Maps, Media, Messaging &amp; Voice</td>\n",
       "      <td>AUTO_AND_VEHICLES</td>\n",
       "      <td>4.2</td>\n",
       "      <td>2M</td>\n",
       "      <td>16M</td>\n",
       "      <td>10,000,000+</td>\n",
       "      <td>Free</td>\n",
       "      <td>0</td>\n",
       "      <td>Teen</td>\n",
       "      <td>Auto &amp; Vehicles</td>\n",
       "      <td>11-Jul-18</td>\n",
       "      <td>Varies with device</td>\n",
       "      <td>5.0 and up</td>\n",
       "      <td>NaN</td>\n",
       "    </tr>\n",
       "    <tr>\n",
       "      <th>1778</th>\n",
       "      <td>Block Craft 3D: Building Simulator Games For Free</td>\n",
       "      <td>GAME</td>\n",
       "      <td>4.5</td>\n",
       "      <td>1M</td>\n",
       "      <td>57M</td>\n",
       "      <td>50,000,000+</td>\n",
       "      <td>Free</td>\n",
       "      <td>0</td>\n",
       "      <td>Everyone</td>\n",
       "      <td>Simulation</td>\n",
       "      <td>5-Mar-18</td>\n",
       "      <td>2.10.2</td>\n",
       "      <td>4.0.3 and up</td>\n",
       "      <td>NaN</td>\n",
       "    </tr>\n",
       "    <tr>\n",
       "      <th>1781</th>\n",
       "      <td>Trivia Crack</td>\n",
       "      <td>GAME</td>\n",
       "      <td>4.5</td>\n",
       "      <td>6.4M</td>\n",
       "      <td>95M</td>\n",
       "      <td>100,000,000+</td>\n",
       "      <td>Free</td>\n",
       "      <td>0</td>\n",
       "      <td>Everyone</td>\n",
       "      <td>Trivia</td>\n",
       "      <td>3-Aug-18</td>\n",
       "      <td>2.79.0</td>\n",
       "      <td>4.1 and up</td>\n",
       "      <td>NaN</td>\n",
       "    </tr>\n",
       "  </tbody>\n",
       "</table>\n",
       "</div>"
      ],
      "text/plain": [
       "                                                    App           Category  \\\n",
       "72        Android Auto - Maps, Media, Messaging & Voice  AUTO_AND_VEHICLES   \n",
       "1778  Block Craft 3D: Building Simulator Games For Free               GAME   \n",
       "1781                                       Trivia Crack               GAME   \n",
       "\n",
       "      Rating Reviews Size      Installs  Type Price Content Rating  \\\n",
       "72       4.2      2M  16M   10,000,000+  Free     0           Teen   \n",
       "1778     4.5      1M  57M   50,000,000+  Free     0       Everyone   \n",
       "1781     4.5    6.4M  95M  100,000,000+  Free     0       Everyone   \n",
       "\n",
       "               Genres Last Updated         Current Ver   Android Ver  \\\n",
       "72    Auto & Vehicles    11-Jul-18  Varies with device    5.0 and up   \n",
       "1778       Simulation     5-Mar-18              2.10.2  4.0.3 and up   \n",
       "1781           Trivia     3-Aug-18              2.79.0    4.1 and up   \n",
       "\n",
       "      Reviews Numeric  \n",
       "72                NaN  \n",
       "1778              NaN  \n",
       "1781              NaN  "
      ]
     },
     "execution_count": 12,
     "metadata": {},
     "output_type": "execute_result"
    }
   ],
   "source": [
    "df.loc[df['Reviews Numeric'].isna()]"
   ]
  },
  {
   "cell_type": "code",
   "execution_count": 13,
   "id": "6c01b382",
   "metadata": {},
   "outputs": [],
   "source": [
    "del df['Reviews Numeric']"
   ]
  },
  {
   "cell_type": "code",
   "execution_count": 14,
   "id": "26f04493",
   "metadata": {},
   "outputs": [],
   "source": [
    "df.loc[df['Reviews'].str.contains('M'),'Reviews'] = pd.to_numeric(\n",
    "                                                        df.loc[df['Reviews'].str.contains('M'),'Reviews']\n",
    "                                                        .str.replace('M',''))*1000000"
   ]
  },
  {
   "cell_type": "code",
   "execution_count": 15,
   "id": "43929765",
   "metadata": {},
   "outputs": [],
   "source": [
    "df['Reviews'] = pd.to_numeric(df['Reviews'])"
   ]
  },
  {
   "cell_type": "code",
   "execution_count": 16,
   "id": "84da0d34",
   "metadata": {},
   "outputs": [
    {
     "name": "stdout",
     "output_type": "stream",
     "text": [
      "float64\n"
     ]
    }
   ],
   "source": [
    "print(df['Reviews'].dtype)"
   ]
  },
  {
   "cell_type": "markdown",
   "id": "4530cc4f",
   "metadata": {},
   "source": [
    "#### 4. How many duplicated apps are there?"
   ]
  },
  {
   "cell_type": "code",
   "execution_count": 17,
   "id": "0457ba77",
   "metadata": {},
   "outputs": [
    {
     "data": {
      "text/plain": [
       "1979"
      ]
     },
     "execution_count": 17,
     "metadata": {},
     "output_type": "execute_result"
    }
   ],
   "source": [
    "df['App'].duplicated(keep=False).sum()"
   ]
  },
  {
   "cell_type": "markdown",
   "id": "1178c37d",
   "metadata": {},
   "source": [
    "#### 5. Drop duplicated apps keeping the ones with the greatest number of reviews"
   ]
  },
  {
   "cell_type": "code",
   "execution_count": 18,
   "id": "03e0f95d",
   "metadata": {},
   "outputs": [
    {
     "data": {
      "text/html": [
       "<div>\n",
       "<style scoped>\n",
       "    .dataframe tbody tr th:only-of-type {\n",
       "        vertical-align: middle;\n",
       "    }\n",
       "\n",
       "    .dataframe tbody tr th {\n",
       "        vertical-align: top;\n",
       "    }\n",
       "\n",
       "    .dataframe thead th {\n",
       "        text-align: right;\n",
       "    }\n",
       "</style>\n",
       "<table border=\"1\" class=\"dataframe\">\n",
       "  <thead>\n",
       "    <tr style=\"text-align: right;\">\n",
       "      <th></th>\n",
       "      <th>App</th>\n",
       "      <th>Category</th>\n",
       "      <th>Rating</th>\n",
       "      <th>Reviews</th>\n",
       "      <th>Size</th>\n",
       "      <th>Installs</th>\n",
       "      <th>Type</th>\n",
       "      <th>Price</th>\n",
       "      <th>Content Rating</th>\n",
       "      <th>Genres</th>\n",
       "      <th>Last Updated</th>\n",
       "      <th>Current Ver</th>\n",
       "      <th>Android Ver</th>\n",
       "    </tr>\n",
       "  </thead>\n",
       "  <tbody>\n",
       "    <tr>\n",
       "      <th>8884</th>\n",
       "      <td>\"i DT\" Fútbol. Todos Somos Técnicos.</td>\n",
       "      <td>SPORTS</td>\n",
       "      <td>4.197727</td>\n",
       "      <td>27.0</td>\n",
       "      <td>3.6M</td>\n",
       "      <td>500+</td>\n",
       "      <td>Free</td>\n",
       "      <td>0</td>\n",
       "      <td>Everyone</td>\n",
       "      <td>Sports</td>\n",
       "      <td>7-Oct-17</td>\n",
       "      <td>0.22</td>\n",
       "      <td>4.1 and up</td>\n",
       "    </tr>\n",
       "    <tr>\n",
       "      <th>324</th>\n",
       "      <td>#NAME?</td>\n",
       "      <td>COMICS</td>\n",
       "      <td>3.500000</td>\n",
       "      <td>115.0</td>\n",
       "      <td>9.1M</td>\n",
       "      <td>10,000+</td>\n",
       "      <td>Free</td>\n",
       "      <td>0</td>\n",
       "      <td>Mature 17+</td>\n",
       "      <td>Comics</td>\n",
       "      <td>13-Jul-18</td>\n",
       "      <td>5.0.12</td>\n",
       "      <td>5.0 and up</td>\n",
       "    </tr>\n",
       "    <tr>\n",
       "      <th>8532</th>\n",
       "      <td>+Download 4 Instagram Twitter</td>\n",
       "      <td>SOCIAL</td>\n",
       "      <td>4.500000</td>\n",
       "      <td>40467.0</td>\n",
       "      <td>22M</td>\n",
       "      <td>1,000,000+</td>\n",
       "      <td>Free</td>\n",
       "      <td>0</td>\n",
       "      <td>Everyone</td>\n",
       "      <td>Social</td>\n",
       "      <td>2-Aug-18</td>\n",
       "      <td>5.03</td>\n",
       "      <td>4.1 and up</td>\n",
       "    </tr>\n",
       "    <tr>\n",
       "      <th>4541</th>\n",
       "      <td>.R</td>\n",
       "      <td>TOOLS</td>\n",
       "      <td>4.500000</td>\n",
       "      <td>259.0</td>\n",
       "      <td>203k</td>\n",
       "      <td>10,000+</td>\n",
       "      <td>Free</td>\n",
       "      <td>0</td>\n",
       "      <td>Everyone</td>\n",
       "      <td>Tools</td>\n",
       "      <td>16-Sep-14</td>\n",
       "      <td>1.1.06</td>\n",
       "      <td>1.5 and up</td>\n",
       "    </tr>\n",
       "    <tr>\n",
       "      <th>4636</th>\n",
       "      <td>/u/app</td>\n",
       "      <td>COMMUNICATION</td>\n",
       "      <td>4.700000</td>\n",
       "      <td>573.0</td>\n",
       "      <td>53M</td>\n",
       "      <td>10,000+</td>\n",
       "      <td>Free</td>\n",
       "      <td>0</td>\n",
       "      <td>Mature 17+</td>\n",
       "      <td>Communication</td>\n",
       "      <td>3-Jul-18</td>\n",
       "      <td>4.2.4</td>\n",
       "      <td>4.1 and up</td>\n",
       "    </tr>\n",
       "    <tr>\n",
       "      <th>...</th>\n",
       "      <td>...</td>\n",
       "      <td>...</td>\n",
       "      <td>...</td>\n",
       "      <td>...</td>\n",
       "      <td>...</td>\n",
       "      <td>...</td>\n",
       "      <td>...</td>\n",
       "      <td>...</td>\n",
       "      <td>...</td>\n",
       "      <td>...</td>\n",
       "      <td>...</td>\n",
       "      <td>...</td>\n",
       "      <td>...</td>\n",
       "    </tr>\n",
       "    <tr>\n",
       "      <th>6334</th>\n",
       "      <td>뽕티비 - 개인방송, 인터넷방송, BJ방송</td>\n",
       "      <td>VIDEO_PLAYERS</td>\n",
       "      <td>4.197727</td>\n",
       "      <td>414.0</td>\n",
       "      <td>59M</td>\n",
       "      <td>100,000+</td>\n",
       "      <td>Free</td>\n",
       "      <td>0</td>\n",
       "      <td>Mature 17+</td>\n",
       "      <td>Video Players &amp; Editors</td>\n",
       "      <td>18-Jul-18</td>\n",
       "      <td>4.0.7</td>\n",
       "      <td>4.0.3 and up</td>\n",
       "    </tr>\n",
       "    <tr>\n",
       "      <th>4362</th>\n",
       "      <td>💎 I'm rich</td>\n",
       "      <td>LIFESTYLE</td>\n",
       "      <td>3.800000</td>\n",
       "      <td>718.0</td>\n",
       "      <td>26M</td>\n",
       "      <td>10,000+</td>\n",
       "      <td>Paid</td>\n",
       "      <td>$399.99</td>\n",
       "      <td>Everyone</td>\n",
       "      <td>Lifestyle</td>\n",
       "      <td>11-Mar-18</td>\n",
       "      <td>1.0.0</td>\n",
       "      <td>4.4 and up</td>\n",
       "    </tr>\n",
       "    <tr>\n",
       "      <th>2575</th>\n",
       "      <td>💘 WhatsLov: Smileys of love, stickers and GIF</td>\n",
       "      <td>SOCIAL</td>\n",
       "      <td>4.600000</td>\n",
       "      <td>22098.0</td>\n",
       "      <td>18M</td>\n",
       "      <td>1,000,000+</td>\n",
       "      <td>Free</td>\n",
       "      <td>0</td>\n",
       "      <td>Everyone</td>\n",
       "      <td>Social</td>\n",
       "      <td>24-Jul-18</td>\n",
       "      <td>4.2.4</td>\n",
       "      <td>4.0.3 and up</td>\n",
       "    </tr>\n",
       "    <tr>\n",
       "      <th>7559</th>\n",
       "      <td>📏 Smart Ruler ↔️ cm/inch measuring for homework!</td>\n",
       "      <td>TOOLS</td>\n",
       "      <td>4.000000</td>\n",
       "      <td>19.0</td>\n",
       "      <td>3.2M</td>\n",
       "      <td>10,000+</td>\n",
       "      <td>Free</td>\n",
       "      <td>0</td>\n",
       "      <td>Everyone</td>\n",
       "      <td>Tools</td>\n",
       "      <td>21-Oct-17</td>\n",
       "      <td>1</td>\n",
       "      <td>4.2 and up</td>\n",
       "    </tr>\n",
       "    <tr>\n",
       "      <th>882</th>\n",
       "      <td>🔥 Football Wallpapers 4K | Full HD Backgrounds 😍</td>\n",
       "      <td>ENTERTAINMENT</td>\n",
       "      <td>4.700000</td>\n",
       "      <td>11661.0</td>\n",
       "      <td>4.0M</td>\n",
       "      <td>1,000,000+</td>\n",
       "      <td>Free</td>\n",
       "      <td>0</td>\n",
       "      <td>Everyone</td>\n",
       "      <td>Entertainment</td>\n",
       "      <td>14-Jul-18</td>\n",
       "      <td>1.1.3.2</td>\n",
       "      <td>4.0.3 and up</td>\n",
       "    </tr>\n",
       "  </tbody>\n",
       "</table>\n",
       "<p>9648 rows × 13 columns</p>\n",
       "</div>"
      ],
      "text/plain": [
       "                                                   App       Category  \\\n",
       "8884              \"i DT\" Fútbol. Todos Somos Técnicos.         SPORTS   \n",
       "324                                             #NAME?         COMICS   \n",
       "8532                     +Download 4 Instagram Twitter         SOCIAL   \n",
       "4541                                                .R          TOOLS   \n",
       "4636                                            /u/app  COMMUNICATION   \n",
       "...                                                ...            ...   \n",
       "6334                           뽕티비 - 개인방송, 인터넷방송, BJ방송  VIDEO_PLAYERS   \n",
       "4362                                        💎 I'm rich      LIFESTYLE   \n",
       "2575     💘 WhatsLov: Smileys of love, stickers and GIF         SOCIAL   \n",
       "7559  📏 Smart Ruler ↔️ cm/inch measuring for homework!          TOOLS   \n",
       "882   🔥 Football Wallpapers 4K | Full HD Backgrounds 😍  ENTERTAINMENT   \n",
       "\n",
       "        Rating  Reviews  Size    Installs  Type     Price Content Rating  \\\n",
       "8884  4.197727     27.0  3.6M        500+  Free         0       Everyone   \n",
       "324   3.500000    115.0  9.1M     10,000+  Free         0     Mature 17+   \n",
       "8532  4.500000  40467.0   22M  1,000,000+  Free         0       Everyone   \n",
       "4541  4.500000    259.0  203k     10,000+  Free         0       Everyone   \n",
       "4636  4.700000    573.0   53M     10,000+  Free         0     Mature 17+   \n",
       "...        ...      ...   ...         ...   ...       ...            ...   \n",
       "6334  4.197727    414.0   59M    100,000+  Free         0     Mature 17+   \n",
       "4362  3.800000    718.0   26M     10,000+  Paid  $399.99        Everyone   \n",
       "2575  4.600000  22098.0   18M  1,000,000+  Free         0       Everyone   \n",
       "7559  4.000000     19.0  3.2M     10,000+  Free         0       Everyone   \n",
       "882   4.700000  11661.0  4.0M  1,000,000+  Free         0       Everyone   \n",
       "\n",
       "                       Genres Last Updated Current Ver   Android Ver  \n",
       "8884                   Sports     7-Oct-17        0.22    4.1 and up  \n",
       "324                    Comics    13-Jul-18      5.0.12    5.0 and up  \n",
       "8532                   Social     2-Aug-18        5.03    4.1 and up  \n",
       "4541                    Tools    16-Sep-14      1.1.06    1.5 and up  \n",
       "4636            Communication     3-Jul-18       4.2.4    4.1 and up  \n",
       "...                       ...          ...         ...           ...  \n",
       "6334  Video Players & Editors    18-Jul-18       4.0.7  4.0.3 and up  \n",
       "4362                Lifestyle    11-Mar-18       1.0.0    4.4 and up  \n",
       "2575                   Social    24-Jul-18       4.2.4  4.0.3 and up  \n",
       "7559                    Tools    21-Oct-17           1    4.2 and up  \n",
       "882             Entertainment    14-Jul-18     1.1.3.2  4.0.3 and up  \n",
       "\n",
       "[9648 rows x 13 columns]"
      ]
     },
     "execution_count": 18,
     "metadata": {},
     "output_type": "execute_result"
    }
   ],
   "source": [
    "df = df.sort_values(by=['App', 'Reviews'])\n",
    "df.drop_duplicates(subset='App',keep='last',inplace=True)\n",
    "df"
   ]
  },
  {
   "cell_type": "markdown",
   "id": "1007161f",
   "metadata": {},
   "source": [
    "#### 6. Format the `Category` column"
   ]
  },
  {
   "cell_type": "code",
   "execution_count": 19,
   "id": "43962b59",
   "metadata": {},
   "outputs": [
    {
     "data": {
      "text/plain": [
       "array(['Sports', 'Comics', 'Social', 'Tools', 'Communication',\n",
       "       'News and magazines', 'Health and fitness', 'Family',\n",
       "       'Books and reference', 'Lifestyle', 'Business', 'Shopping',\n",
       "       'Medical', 'Game', 'Finance', 'Personalization', 'Photography',\n",
       "       'Travel and local', 'Dating', 'Productivity', 'Art and design',\n",
       "       'Food and drink', 'Video players', 'House and home',\n",
       "       'Maps and navigation', 'Events', 'Education', 'Auto and vehicles',\n",
       "       'Weather', 'Beauty', 'Entertainment', 'Libraries and demo',\n",
       "       'Parenting'], dtype=object)"
      ]
     },
     "execution_count": 19,
     "metadata": {},
     "output_type": "execute_result"
    }
   ],
   "source": [
    "df['Category'] = df['Category'].str.replace('_',' ').str.capitalize()\n",
    "df['Category'].unique()"
   ]
  },
  {
   "cell_type": "markdown",
   "id": "5fe150a6",
   "metadata": {},
   "source": [
    "#### 7. Clean and convert the `Installs` column to numeric type"
   ]
  },
  {
   "cell_type": "code",
   "execution_count": 20,
   "id": "3543752a",
   "metadata": {},
   "outputs": [
    {
     "name": "stderr",
     "output_type": "stream",
     "text": [
      "C:\\Users\\Shrikaran\\AppData\\Local\\Temp\\ipykernel_15204\\111790768.py:1: FutureWarning: The default value of regex will change from True to False in a future version. In addition, single character regular expressions will *not* be treated as literal strings when regex=True.\n",
      "  df['Installs'] = pd.to_numeric(df['Installs'].str.replace(',','').str.replace('+',''))\n"
     ]
    },
    {
     "data": {
      "text/plain": [
       "8884        500\n",
       "324       10000\n",
       "8532    1000000\n",
       "4541      10000\n",
       "4636      10000\n",
       "         ...   \n",
       "6334     100000\n",
       "4362      10000\n",
       "2575    1000000\n",
       "7559      10000\n",
       "882     1000000\n",
       "Name: Installs, Length: 9648, dtype: int64"
      ]
     },
     "execution_count": 20,
     "metadata": {},
     "output_type": "execute_result"
    }
   ],
   "source": [
    "df['Installs'] = pd.to_numeric(df['Installs'].str.replace(',','').str.replace('+',''))\n",
    "df['Installs']"
   ]
  },
  {
   "cell_type": "markdown",
   "id": "707e6429",
   "metadata": {},
   "source": [
    "#### 8. Clean and convert the `Size` column to numeric (representing bytes)"
   ]
  },
  {
   "cell_type": "code",
   "execution_count": 21,
   "id": "a4e8e2d2",
   "metadata": {},
   "outputs": [
    {
     "data": {
      "text/plain": [
       "2681     11M\n",
       "9665    3.1M\n",
       "4243     36M\n",
       "5299    8.8M\n",
       "9844     13M\n",
       "Name: Size, dtype: object"
      ]
     },
     "execution_count": 21,
     "metadata": {},
     "output_type": "execute_result"
    }
   ],
   "source": [
    "df['Size'].sample(5)"
   ]
  },
  {
   "cell_type": "code",
   "execution_count": 22,
   "id": "07971e96",
   "metadata": {},
   "outputs": [],
   "source": [
    "df['Size'] = df['Size'].replace('Varies with device', \"0\").astype(str)"
   ]
  },
  {
   "cell_type": "code",
   "execution_count": 23,
   "id": "ddf03217",
   "metadata": {},
   "outputs": [],
   "source": [
    "df.loc[df['Size'].str.contains('M'),'Size'] = (pd.to_numeric\n",
    "                                        (df.loc[df['Size'].str.contains('M'),'Size']\n",
    "                                         .str.replace('M',''))*(1024*1024)).astype(str)"
   ]
  },
  {
   "cell_type": "code",
   "execution_count": 24,
   "id": "e97d5e6a",
   "metadata": {},
   "outputs": [],
   "source": [
    "df.loc[df['Size'].str.contains('k'),'Size'] = (pd.to_numeric\n",
    "                                        (df.loc[df['Size'].str.contains('k'),'Size']\n",
    "                                         .str.replace('k',''))*1024).astype(str)"
   ]
  },
  {
   "cell_type": "code",
   "execution_count": 25,
   "id": "71d2f7a7",
   "metadata": {},
   "outputs": [
    {
     "data": {
      "text/plain": [
       "8884     3774873.6\n",
       "324      9542041.6\n",
       "8532    23068672.0\n",
       "4541      207872.0\n",
       "4636    55574528.0\n",
       "           ...    \n",
       "6334    61865984.0\n",
       "4362    27262976.0\n",
       "2575    18874368.0\n",
       "7559     3355443.2\n",
       "882      4194304.0\n",
       "Name: Size, Length: 9648, dtype: float64"
      ]
     },
     "execution_count": 25,
     "metadata": {},
     "output_type": "execute_result"
    }
   ],
   "source": [
    "df['Size'] = pd.to_numeric(df['Size'])\n",
    "df['Size']"
   ]
  },
  {
   "cell_type": "markdown",
   "id": "f3ed6421",
   "metadata": {},
   "source": [
    "#### 9. Clean and convert the `Price` column to numeric"
   ]
  },
  {
   "cell_type": "code",
   "execution_count": 26,
   "id": "74b72151",
   "metadata": {},
   "outputs": [
    {
     "name": "stderr",
     "output_type": "stream",
     "text": [
      "C:\\Users\\Shrikaran\\AppData\\Local\\Temp\\ipykernel_15204\\357261700.py:1: FutureWarning: The default value of regex will change from True to False in a future version. In addition, single character regular expressions will *not* be treated as literal strings when regex=True.\n",
      "  df['Price'] = pd.to_numeric(df['Price'].str.replace('Free','0').str.replace('$',''))\n"
     ]
    },
    {
     "data": {
      "text/plain": [
       "8884      0.00\n",
       "324       0.00\n",
       "8532      0.00\n",
       "4541      0.00\n",
       "4636      0.00\n",
       "         ...  \n",
       "6334      0.00\n",
       "4362    399.99\n",
       "2575      0.00\n",
       "7559      0.00\n",
       "882       0.00\n",
       "Name: Price, Length: 9648, dtype: float64"
      ]
     },
     "execution_count": 26,
     "metadata": {},
     "output_type": "execute_result"
    }
   ],
   "source": [
    "df['Price'] = pd.to_numeric(df['Price'].str.replace('Free','0').str.replace('$',''))\n",
    "df['Price']"
   ]
  },
  {
   "cell_type": "markdown",
   "id": "bcdc6e39",
   "metadata": {},
   "source": [
    "#### 10. App is Paid or free?"
   ]
  },
  {
   "cell_type": "code",
   "execution_count": 27,
   "id": "b80e1f10",
   "metadata": {},
   "outputs": [
    {
     "data": {
      "text/html": [
       "<div>\n",
       "<style scoped>\n",
       "    .dataframe tbody tr th:only-of-type {\n",
       "        vertical-align: middle;\n",
       "    }\n",
       "\n",
       "    .dataframe tbody tr th {\n",
       "        vertical-align: top;\n",
       "    }\n",
       "\n",
       "    .dataframe thead th {\n",
       "        text-align: right;\n",
       "    }\n",
       "</style>\n",
       "<table border=\"1\" class=\"dataframe\">\n",
       "  <thead>\n",
       "    <tr style=\"text-align: right;\">\n",
       "      <th></th>\n",
       "      <th>App</th>\n",
       "      <th>Category</th>\n",
       "      <th>Rating</th>\n",
       "      <th>Reviews</th>\n",
       "      <th>Size</th>\n",
       "      <th>Installs</th>\n",
       "      <th>Type</th>\n",
       "      <th>Price</th>\n",
       "      <th>Content Rating</th>\n",
       "      <th>Genres</th>\n",
       "      <th>Last Updated</th>\n",
       "      <th>Current Ver</th>\n",
       "      <th>Android Ver</th>\n",
       "      <th>Distribution</th>\n",
       "    </tr>\n",
       "  </thead>\n",
       "  <tbody>\n",
       "    <tr>\n",
       "      <th>8884</th>\n",
       "      <td>\"i DT\" Fútbol. Todos Somos Técnicos.</td>\n",
       "      <td>Sports</td>\n",
       "      <td>4.197727</td>\n",
       "      <td>27.0</td>\n",
       "      <td>3774873.6</td>\n",
       "      <td>500</td>\n",
       "      <td>Free</td>\n",
       "      <td>0.00</td>\n",
       "      <td>Everyone</td>\n",
       "      <td>Sports</td>\n",
       "      <td>7-Oct-17</td>\n",
       "      <td>0.22</td>\n",
       "      <td>4.1 and up</td>\n",
       "      <td>Free</td>\n",
       "    </tr>\n",
       "    <tr>\n",
       "      <th>324</th>\n",
       "      <td>#NAME?</td>\n",
       "      <td>Comics</td>\n",
       "      <td>3.500000</td>\n",
       "      <td>115.0</td>\n",
       "      <td>9542041.6</td>\n",
       "      <td>10000</td>\n",
       "      <td>Free</td>\n",
       "      <td>0.00</td>\n",
       "      <td>Mature 17+</td>\n",
       "      <td>Comics</td>\n",
       "      <td>13-Jul-18</td>\n",
       "      <td>5.0.12</td>\n",
       "      <td>5.0 and up</td>\n",
       "      <td>Free</td>\n",
       "    </tr>\n",
       "    <tr>\n",
       "      <th>8532</th>\n",
       "      <td>+Download 4 Instagram Twitter</td>\n",
       "      <td>Social</td>\n",
       "      <td>4.500000</td>\n",
       "      <td>40467.0</td>\n",
       "      <td>23068672.0</td>\n",
       "      <td>1000000</td>\n",
       "      <td>Free</td>\n",
       "      <td>0.00</td>\n",
       "      <td>Everyone</td>\n",
       "      <td>Social</td>\n",
       "      <td>2-Aug-18</td>\n",
       "      <td>5.03</td>\n",
       "      <td>4.1 and up</td>\n",
       "      <td>Free</td>\n",
       "    </tr>\n",
       "    <tr>\n",
       "      <th>4541</th>\n",
       "      <td>.R</td>\n",
       "      <td>Tools</td>\n",
       "      <td>4.500000</td>\n",
       "      <td>259.0</td>\n",
       "      <td>207872.0</td>\n",
       "      <td>10000</td>\n",
       "      <td>Free</td>\n",
       "      <td>0.00</td>\n",
       "      <td>Everyone</td>\n",
       "      <td>Tools</td>\n",
       "      <td>16-Sep-14</td>\n",
       "      <td>1.1.06</td>\n",
       "      <td>1.5 and up</td>\n",
       "      <td>Free</td>\n",
       "    </tr>\n",
       "    <tr>\n",
       "      <th>4636</th>\n",
       "      <td>/u/app</td>\n",
       "      <td>Communication</td>\n",
       "      <td>4.700000</td>\n",
       "      <td>573.0</td>\n",
       "      <td>55574528.0</td>\n",
       "      <td>10000</td>\n",
       "      <td>Free</td>\n",
       "      <td>0.00</td>\n",
       "      <td>Mature 17+</td>\n",
       "      <td>Communication</td>\n",
       "      <td>3-Jul-18</td>\n",
       "      <td>4.2.4</td>\n",
       "      <td>4.1 and up</td>\n",
       "      <td>Free</td>\n",
       "    </tr>\n",
       "    <tr>\n",
       "      <th>...</th>\n",
       "      <td>...</td>\n",
       "      <td>...</td>\n",
       "      <td>...</td>\n",
       "      <td>...</td>\n",
       "      <td>...</td>\n",
       "      <td>...</td>\n",
       "      <td>...</td>\n",
       "      <td>...</td>\n",
       "      <td>...</td>\n",
       "      <td>...</td>\n",
       "      <td>...</td>\n",
       "      <td>...</td>\n",
       "      <td>...</td>\n",
       "      <td>...</td>\n",
       "    </tr>\n",
       "    <tr>\n",
       "      <th>6334</th>\n",
       "      <td>뽕티비 - 개인방송, 인터넷방송, BJ방송</td>\n",
       "      <td>Video players</td>\n",
       "      <td>4.197727</td>\n",
       "      <td>414.0</td>\n",
       "      <td>61865984.0</td>\n",
       "      <td>100000</td>\n",
       "      <td>Free</td>\n",
       "      <td>0.00</td>\n",
       "      <td>Mature 17+</td>\n",
       "      <td>Video Players &amp; Editors</td>\n",
       "      <td>18-Jul-18</td>\n",
       "      <td>4.0.7</td>\n",
       "      <td>4.0.3 and up</td>\n",
       "      <td>Free</td>\n",
       "    </tr>\n",
       "    <tr>\n",
       "      <th>4362</th>\n",
       "      <td>💎 I'm rich</td>\n",
       "      <td>Lifestyle</td>\n",
       "      <td>3.800000</td>\n",
       "      <td>718.0</td>\n",
       "      <td>27262976.0</td>\n",
       "      <td>10000</td>\n",
       "      <td>Paid</td>\n",
       "      <td>399.99</td>\n",
       "      <td>Everyone</td>\n",
       "      <td>Lifestyle</td>\n",
       "      <td>11-Mar-18</td>\n",
       "      <td>1.0.0</td>\n",
       "      <td>4.4 and up</td>\n",
       "      <td>Paid</td>\n",
       "    </tr>\n",
       "    <tr>\n",
       "      <th>2575</th>\n",
       "      <td>💘 WhatsLov: Smileys of love, stickers and GIF</td>\n",
       "      <td>Social</td>\n",
       "      <td>4.600000</td>\n",
       "      <td>22098.0</td>\n",
       "      <td>18874368.0</td>\n",
       "      <td>1000000</td>\n",
       "      <td>Free</td>\n",
       "      <td>0.00</td>\n",
       "      <td>Everyone</td>\n",
       "      <td>Social</td>\n",
       "      <td>24-Jul-18</td>\n",
       "      <td>4.2.4</td>\n",
       "      <td>4.0.3 and up</td>\n",
       "      <td>Free</td>\n",
       "    </tr>\n",
       "    <tr>\n",
       "      <th>7559</th>\n",
       "      <td>📏 Smart Ruler ↔️ cm/inch measuring for homework!</td>\n",
       "      <td>Tools</td>\n",
       "      <td>4.000000</td>\n",
       "      <td>19.0</td>\n",
       "      <td>3355443.2</td>\n",
       "      <td>10000</td>\n",
       "      <td>Free</td>\n",
       "      <td>0.00</td>\n",
       "      <td>Everyone</td>\n",
       "      <td>Tools</td>\n",
       "      <td>21-Oct-17</td>\n",
       "      <td>1</td>\n",
       "      <td>4.2 and up</td>\n",
       "      <td>Free</td>\n",
       "    </tr>\n",
       "    <tr>\n",
       "      <th>882</th>\n",
       "      <td>🔥 Football Wallpapers 4K | Full HD Backgrounds 😍</td>\n",
       "      <td>Entertainment</td>\n",
       "      <td>4.700000</td>\n",
       "      <td>11661.0</td>\n",
       "      <td>4194304.0</td>\n",
       "      <td>1000000</td>\n",
       "      <td>Free</td>\n",
       "      <td>0.00</td>\n",
       "      <td>Everyone</td>\n",
       "      <td>Entertainment</td>\n",
       "      <td>14-Jul-18</td>\n",
       "      <td>1.1.3.2</td>\n",
       "      <td>4.0.3 and up</td>\n",
       "      <td>Free</td>\n",
       "    </tr>\n",
       "  </tbody>\n",
       "</table>\n",
       "<p>9648 rows × 14 columns</p>\n",
       "</div>"
      ],
      "text/plain": [
       "                                                   App       Category  \\\n",
       "8884              \"i DT\" Fútbol. Todos Somos Técnicos.         Sports   \n",
       "324                                             #NAME?         Comics   \n",
       "8532                     +Download 4 Instagram Twitter         Social   \n",
       "4541                                                .R          Tools   \n",
       "4636                                            /u/app  Communication   \n",
       "...                                                ...            ...   \n",
       "6334                           뽕티비 - 개인방송, 인터넷방송, BJ방송  Video players   \n",
       "4362                                        💎 I'm rich      Lifestyle   \n",
       "2575     💘 WhatsLov: Smileys of love, stickers and GIF         Social   \n",
       "7559  📏 Smart Ruler ↔️ cm/inch measuring for homework!          Tools   \n",
       "882   🔥 Football Wallpapers 4K | Full HD Backgrounds 😍  Entertainment   \n",
       "\n",
       "        Rating  Reviews        Size  Installs  Type   Price Content Rating  \\\n",
       "8884  4.197727     27.0   3774873.6       500  Free    0.00       Everyone   \n",
       "324   3.500000    115.0   9542041.6     10000  Free    0.00     Mature 17+   \n",
       "8532  4.500000  40467.0  23068672.0   1000000  Free    0.00       Everyone   \n",
       "4541  4.500000    259.0    207872.0     10000  Free    0.00       Everyone   \n",
       "4636  4.700000    573.0  55574528.0     10000  Free    0.00     Mature 17+   \n",
       "...        ...      ...         ...       ...   ...     ...            ...   \n",
       "6334  4.197727    414.0  61865984.0    100000  Free    0.00     Mature 17+   \n",
       "4362  3.800000    718.0  27262976.0     10000  Paid  399.99       Everyone   \n",
       "2575  4.600000  22098.0  18874368.0   1000000  Free    0.00       Everyone   \n",
       "7559  4.000000     19.0   3355443.2     10000  Free    0.00       Everyone   \n",
       "882   4.700000  11661.0   4194304.0   1000000  Free    0.00       Everyone   \n",
       "\n",
       "                       Genres Last Updated Current Ver   Android Ver  \\\n",
       "8884                   Sports     7-Oct-17        0.22    4.1 and up   \n",
       "324                    Comics    13-Jul-18      5.0.12    5.0 and up   \n",
       "8532                   Social     2-Aug-18        5.03    4.1 and up   \n",
       "4541                    Tools    16-Sep-14      1.1.06    1.5 and up   \n",
       "4636            Communication     3-Jul-18       4.2.4    4.1 and up   \n",
       "...                       ...          ...         ...           ...   \n",
       "6334  Video Players & Editors    18-Jul-18       4.0.7  4.0.3 and up   \n",
       "4362                Lifestyle    11-Mar-18       1.0.0    4.4 and up   \n",
       "2575                   Social    24-Jul-18       4.2.4  4.0.3 and up   \n",
       "7559                    Tools    21-Oct-17           1    4.2 and up   \n",
       "882             Entertainment    14-Jul-18     1.1.3.2  4.0.3 and up   \n",
       "\n",
       "     Distribution  \n",
       "8884         Free  \n",
       "324          Free  \n",
       "8532         Free  \n",
       "4541         Free  \n",
       "4636         Free  \n",
       "...           ...  \n",
       "6334         Free  \n",
       "4362         Paid  \n",
       "2575         Free  \n",
       "7559         Free  \n",
       "882          Free  \n",
       "\n",
       "[9648 rows x 14 columns]"
      ]
     },
     "execution_count": 27,
     "metadata": {},
     "output_type": "execute_result"
    }
   ],
   "source": [
    "df['Distribution'] = 'Free'\n",
    "df.loc[df['Price'] > 0,'Distribution'] = 'Paid'\n",
    "df"
   ]
  },
  {
   "cell_type": "markdown",
   "id": "8a094081",
   "metadata": {},
   "source": [
    "## Analysis"
   ]
  },
  {
   "cell_type": "markdown",
   "id": "03de9704",
   "metadata": {},
   "source": [
    "#### 11. Which app has the most reviews?"
   ]
  },
  {
   "cell_type": "code",
   "execution_count": 28,
   "id": "5facf990",
   "metadata": {},
   "outputs": [
    {
     "data": {
      "text/plain": [
       "78158306.0"
      ]
     },
     "execution_count": 28,
     "metadata": {},
     "output_type": "execute_result"
    }
   ],
   "source": [
    "df['Reviews'].max()"
   ]
  },
  {
   "cell_type": "code",
   "execution_count": 29,
   "id": "a95e9842",
   "metadata": {},
   "outputs": [
    {
     "data": {
      "text/plain": [
       "2544    Facebook\n",
       "Name: App, dtype: object"
      ]
     },
     "execution_count": 29,
     "metadata": {},
     "output_type": "execute_result"
    }
   ],
   "source": [
    "df.loc[df['Reviews'] == 78158306.0, 'App']"
   ]
  },
  {
   "cell_type": "markdown",
   "id": "17e0d685",
   "metadata": {},
   "source": [
    "#### 12. What category has the highest number of apps uploaded to the store?"
   ]
  },
  {
   "cell_type": "code",
   "execution_count": 30,
   "id": "3ea4d3b2",
   "metadata": {},
   "outputs": [
    {
     "data": {
      "text/plain": [
       "Family      1874\n",
       "Game         945\n",
       "Tools        827\n",
       "Business     420\n",
       "Medical      395\n",
       "Name: Category, dtype: int64"
      ]
     },
     "execution_count": 30,
     "metadata": {},
     "output_type": "execute_result"
    }
   ],
   "source": [
    "df['Category'].value_counts().head()"
   ]
  },
  {
   "cell_type": "markdown",
   "id": "003ddbec",
   "metadata": {},
   "source": [
    "#### 13. To which category belongs the most expensive app?"
   ]
  },
  {
   "cell_type": "code",
   "execution_count": 31,
   "id": "768eeba3",
   "metadata": {},
   "outputs": [
    {
     "data": {
      "text/plain": [
       "400.0"
      ]
     },
     "execution_count": 31,
     "metadata": {},
     "output_type": "execute_result"
    }
   ],
   "source": [
    "df['Price'].max()"
   ]
  },
  {
   "cell_type": "code",
   "execution_count": 32,
   "id": "0193890f",
   "metadata": {},
   "outputs": [
    {
     "data": {
      "text/plain": [
       "4367    Lifestyle\n",
       "Name: Category, dtype: object"
      ]
     },
     "execution_count": 32,
     "metadata": {},
     "output_type": "execute_result"
    }
   ],
   "source": [
    "df.loc[df['Price'] == 400, 'Category']"
   ]
  },
  {
   "cell_type": "markdown",
   "id": "42d2f43a",
   "metadata": {},
   "source": [
    "#### 14. What's the name of the most expensive game?"
   ]
  },
  {
   "cell_type": "code",
   "execution_count": 33,
   "id": "02eba0ea",
   "metadata": {},
   "outputs": [
    {
     "data": {
      "text/html": [
       "<div>\n",
       "<style scoped>\n",
       "    .dataframe tbody tr th:only-of-type {\n",
       "        vertical-align: middle;\n",
       "    }\n",
       "\n",
       "    .dataframe tbody tr th {\n",
       "        vertical-align: top;\n",
       "    }\n",
       "\n",
       "    .dataframe thead th {\n",
       "        text-align: right;\n",
       "    }\n",
       "</style>\n",
       "<table border=\"1\" class=\"dataframe\">\n",
       "  <thead>\n",
       "    <tr style=\"text-align: right;\">\n",
       "      <th></th>\n",
       "      <th>App</th>\n",
       "      <th>Price</th>\n",
       "    </tr>\n",
       "  </thead>\n",
       "  <tbody>\n",
       "    <tr>\n",
       "      <th>4203</th>\n",
       "      <td>The World Ends With You</td>\n",
       "      <td>17.99</td>\n",
       "    </tr>\n",
       "    <tr>\n",
       "      <th>10782</th>\n",
       "      <td>Trine 2: Complete Story</td>\n",
       "      <td>16.99</td>\n",
       "    </tr>\n",
       "    <tr>\n",
       "      <th>6341</th>\n",
       "      <td>Blackjack Verite Drills</td>\n",
       "      <td>14.00</td>\n",
       "    </tr>\n",
       "    <tr>\n",
       "      <th>1838</th>\n",
       "      <td>Star Wars ™: DIRTY</td>\n",
       "      <td>9.99</td>\n",
       "    </tr>\n",
       "    <tr>\n",
       "      <th>6198</th>\n",
       "      <td>Backgammon NJ for Android</td>\n",
       "      <td>7.99</td>\n",
       "    </tr>\n",
       "  </tbody>\n",
       "</table>\n",
       "</div>"
      ],
      "text/plain": [
       "                             App  Price\n",
       "4203     The World Ends With You  17.99\n",
       "10782    Trine 2: Complete Story  16.99\n",
       "6341     Blackjack Verite Drills  14.00\n",
       "1838          Star Wars ™: DIRTY   9.99\n",
       "6198   Backgammon NJ for Android   7.99"
      ]
     },
     "execution_count": 33,
     "metadata": {},
     "output_type": "execute_result"
    }
   ],
   "source": [
    "df.loc[df['Category'] == 'Game',['App','Price']].sort_values('Price', ascending=False).head()"
   ]
  },
  {
   "cell_type": "markdown",
   "id": "1206a976",
   "metadata": {},
   "source": [
    "#### 15. Which is the most popular Finance App?"
   ]
  },
  {
   "cell_type": "code",
   "execution_count": 34,
   "id": "ff2c79d2",
   "metadata": {},
   "outputs": [
    {
     "data": {
      "text/html": [
       "<div>\n",
       "<style scoped>\n",
       "    .dataframe tbody tr th:only-of-type {\n",
       "        vertical-align: middle;\n",
       "    }\n",
       "\n",
       "    .dataframe tbody tr th {\n",
       "        vertical-align: top;\n",
       "    }\n",
       "\n",
       "    .dataframe thead th {\n",
       "        text-align: right;\n",
       "    }\n",
       "</style>\n",
       "<table border=\"1\" class=\"dataframe\">\n",
       "  <thead>\n",
       "    <tr style=\"text-align: right;\">\n",
       "      <th></th>\n",
       "      <th>App</th>\n",
       "      <th>Installs</th>\n",
       "    </tr>\n",
       "  </thead>\n",
       "  <tbody>\n",
       "    <tr>\n",
       "      <th>5601</th>\n",
       "      <td>Google Pay</td>\n",
       "      <td>100000000</td>\n",
       "    </tr>\n",
       "    <tr>\n",
       "      <th>1156</th>\n",
       "      <td>PayPal</td>\n",
       "      <td>50000000</td>\n",
       "    </tr>\n",
       "    <tr>\n",
       "      <th>1081</th>\n",
       "      <td>İşCep</td>\n",
       "      <td>10000000</td>\n",
       "    </tr>\n",
       "    <tr>\n",
       "      <th>1168</th>\n",
       "      <td>Wells Fargo Mobile</td>\n",
       "      <td>10000000</td>\n",
       "    </tr>\n",
       "    <tr>\n",
       "      <th>1169</th>\n",
       "      <td>Capital One® Mobile</td>\n",
       "      <td>10000000</td>\n",
       "    </tr>\n",
       "  </tbody>\n",
       "</table>\n",
       "</div>"
      ],
      "text/plain": [
       "                      App   Installs\n",
       "5601           Google Pay  100000000\n",
       "1156               PayPal   50000000\n",
       "1081                İşCep   10000000\n",
       "1168   Wells Fargo Mobile   10000000\n",
       "1169  Capital One® Mobile   10000000"
      ]
     },
     "execution_count": 34,
     "metadata": {},
     "output_type": "execute_result"
    }
   ],
   "source": [
    "df.loc[df['Category'] == 'Finance',['App','Installs']].sort_values('Installs',ascending=False).head()"
   ]
  },
  {
   "cell_type": "markdown",
   "id": "3ba757e4",
   "metadata": {},
   "source": [
    "#### 16. What *Teen* Game has the most reviews?"
   ]
  },
  {
   "cell_type": "code",
   "execution_count": 35,
   "id": "2e1a2c72",
   "metadata": {},
   "outputs": [
    {
     "data": {
      "text/html": [
       "<div>\n",
       "<style scoped>\n",
       "    .dataframe tbody tr th:only-of-type {\n",
       "        vertical-align: middle;\n",
       "    }\n",
       "\n",
       "    .dataframe tbody tr th {\n",
       "        vertical-align: top;\n",
       "    }\n",
       "\n",
       "    .dataframe thead th {\n",
       "        text-align: right;\n",
       "    }\n",
       "</style>\n",
       "<table border=\"1\" class=\"dataframe\">\n",
       "  <thead>\n",
       "    <tr style=\"text-align: right;\">\n",
       "      <th></th>\n",
       "      <th>App</th>\n",
       "      <th>Reviews</th>\n",
       "    </tr>\n",
       "  </thead>\n",
       "  <tbody>\n",
       "    <tr>\n",
       "      <th>3912</th>\n",
       "      <td>Asphalt 8: Airborne</td>\n",
       "      <td>8389714.0</td>\n",
       "    </tr>\n",
       "    <tr>\n",
       "      <th>5417</th>\n",
       "      <td>Mobile Legends: Bang Bang</td>\n",
       "      <td>8219586.0</td>\n",
       "    </tr>\n",
       "    <tr>\n",
       "      <th>1988</th>\n",
       "      <td>Hungry Shark Evolution</td>\n",
       "      <td>6074627.0</td>\n",
       "    </tr>\n",
       "    <tr>\n",
       "      <th>10327</th>\n",
       "      <td>Garena Free Fire</td>\n",
       "      <td>5534114.0</td>\n",
       "    </tr>\n",
       "    <tr>\n",
       "      <th>3967</th>\n",
       "      <td>Pixel Gun 3D: Survival shooter &amp; Battle Royale</td>\n",
       "      <td>4487182.0</td>\n",
       "    </tr>\n",
       "  </tbody>\n",
       "</table>\n",
       "</div>"
      ],
      "text/plain": [
       "                                                  App    Reviews\n",
       "3912                              Asphalt 8: Airborne  8389714.0\n",
       "5417                        Mobile Legends: Bang Bang  8219586.0\n",
       "1988                           Hungry Shark Evolution  6074627.0\n",
       "10327                                Garena Free Fire  5534114.0\n",
       "3967   Pixel Gun 3D: Survival shooter & Battle Royale  4487182.0"
      ]
     },
     "execution_count": 35,
     "metadata": {},
     "output_type": "execute_result"
    }
   ],
   "source": [
    "df.loc[(df['Category'] == 'Game') & (\n",
    "    df['Content Rating'] == 'Teen'),['App','Reviews']].sort_values('Reviews',ascending=False).head()"
   ]
  },
  {
   "cell_type": "markdown",
   "id": "c6b447c9",
   "metadata": {},
   "source": [
    "#### 17. Which is the free game with the most reviews?"
   ]
  },
  {
   "cell_type": "code",
   "execution_count": 42,
   "id": "f08a6404",
   "metadata": {},
   "outputs": [
    {
     "data": {
      "text/html": [
       "<div>\n",
       "<style scoped>\n",
       "    .dataframe tbody tr th:only-of-type {\n",
       "        vertical-align: middle;\n",
       "    }\n",
       "\n",
       "    .dataframe tbody tr th {\n",
       "        vertical-align: top;\n",
       "    }\n",
       "\n",
       "    .dataframe thead th {\n",
       "        text-align: right;\n",
       "    }\n",
       "</style>\n",
       "<table border=\"1\" class=\"dataframe\">\n",
       "  <thead>\n",
       "    <tr style=\"text-align: right;\">\n",
       "      <th></th>\n",
       "      <th>App</th>\n",
       "      <th>Reviews</th>\n",
       "    </tr>\n",
       "  </thead>\n",
       "  <tbody>\n",
       "    <tr>\n",
       "      <th>1879</th>\n",
       "      <td>Clash of Clans</td>\n",
       "      <td>44893888.0</td>\n",
       "    </tr>\n",
       "    <tr>\n",
       "      <th>1917</th>\n",
       "      <td>Subway Surfers</td>\n",
       "      <td>27725352.0</td>\n",
       "    </tr>\n",
       "    <tr>\n",
       "      <th>1878</th>\n",
       "      <td>Clash Royale</td>\n",
       "      <td>23136735.0</td>\n",
       "    </tr>\n",
       "    <tr>\n",
       "      <th>1966</th>\n",
       "      <td>Candy Crush Saga</td>\n",
       "      <td>22430188.0</td>\n",
       "    </tr>\n",
       "    <tr>\n",
       "      <th>1908</th>\n",
       "      <td>My Talking Tom</td>\n",
       "      <td>14892469.0</td>\n",
       "    </tr>\n",
       "  </tbody>\n",
       "</table>\n",
       "</div>"
      ],
      "text/plain": [
       "                   App     Reviews\n",
       "1879    Clash of Clans  44893888.0\n",
       "1917    Subway Surfers  27725352.0\n",
       "1878      Clash Royale  23136735.0\n",
       "1966  Candy Crush Saga  22430188.0\n",
       "1908    My Talking Tom  14892469.0"
      ]
     },
     "execution_count": 42,
     "metadata": {},
     "output_type": "execute_result"
    }
   ],
   "source": [
    "df.loc[(df['Category'] == 'Game') & (\n",
    "    df['Type'] == 'Free'),['App','Reviews']].sort_values('Reviews',ascending=False).head()"
   ]
  },
  {
   "cell_type": "markdown",
   "id": "2a7e498c",
   "metadata": {},
   "source": [
    "#### 18. How many Tb (tebibytes) were transferred (overall) for the most popular Lifestyle app?"
   ]
  },
  {
   "cell_type": "code",
   "execution_count": 51,
   "id": "a1edff8a",
   "metadata": {},
   "outputs": [
    {
     "data": {
      "text/plain": [
       "App             Tinder\n",
       "Size        71303168.0\n",
       "Installs     100000000\n",
       "Name: 4587, dtype: object"
      ]
     },
     "execution_count": 51,
     "metadata": {},
     "output_type": "execute_result"
    }
   ],
   "source": [
    "app = df.loc[df['Category']=='Lifestyle',['App','Size','Installs']].sort_values('Installs',ascending=False).iloc[0]\n",
    "app"
   ]
  },
  {
   "cell_type": "code",
   "execution_count": 52,
   "id": "cdcd824c",
   "metadata": {},
   "outputs": [
    {
     "data": {
      "text/plain": [
       "6484.9853515625"
      ]
     },
     "execution_count": 52,
     "metadata": {},
     "output_type": "execute_result"
    }
   ],
   "source": [
    "(app['Installs']*app['Size'])/(1024*1024*1024*1024)"
   ]
  }
 ],
 "metadata": {
  "kernelspec": {
   "display_name": "Python 3 (ipykernel)",
   "language": "python",
   "name": "python3"
  },
  "language_info": {
   "codemirror_mode": {
    "name": "ipython",
    "version": 3
   },
   "file_extension": ".py",
   "mimetype": "text/x-python",
   "name": "python",
   "nbconvert_exporter": "python",
   "pygments_lexer": "ipython3",
   "version": "3.9.12"
  }
 },
 "nbformat": 4,
 "nbformat_minor": 5
}
